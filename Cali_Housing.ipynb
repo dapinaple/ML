{
 "cells": [
  {
   "cell_type": "markdown",
   "metadata": {},
   "source": [
    "Esteban Schmitt  \n",
    "CS559   \n",
    "Assignment 1 Linear Regression   \n",
    "I pledge my honor that I have abided by the Stevens Honor System"
   ]
  },
  {
   "cell_type": "markdown",
   "metadata": {},
   "source": [
    "Import and set up data features and Price output"
   ]
  },
  {
   "cell_type": "code",
   "execution_count": 1,
   "metadata": {},
   "outputs": [
    {
     "data": {
      "text/html": [
       "<div>\n",
       "<style scoped>\n",
       "    .dataframe tbody tr th:only-of-type {\n",
       "        vertical-align: middle;\n",
       "    }\n",
       "\n",
       "    .dataframe tbody tr th {\n",
       "        vertical-align: top;\n",
       "    }\n",
       "\n",
       "    .dataframe thead th {\n",
       "        text-align: right;\n",
       "    }\n",
       "</style>\n",
       "<table border=\"1\" class=\"dataframe\">\n",
       "  <thead>\n",
       "    <tr style=\"text-align: right;\">\n",
       "      <th></th>\n",
       "      <th>MedInc</th>\n",
       "      <th>HouseAge</th>\n",
       "      <th>AveRooms</th>\n",
       "      <th>AveBedrms</th>\n",
       "      <th>Population</th>\n",
       "      <th>AveOccup</th>\n",
       "      <th>Latitude</th>\n",
       "      <th>Longitude</th>\n",
       "    </tr>\n",
       "  </thead>\n",
       "  <tbody>\n",
       "    <tr>\n",
       "      <th>0</th>\n",
       "      <td>8.3252</td>\n",
       "      <td>41.0</td>\n",
       "      <td>6.984127</td>\n",
       "      <td>1.023810</td>\n",
       "      <td>322.0</td>\n",
       "      <td>2.555556</td>\n",
       "      <td>37.88</td>\n",
       "      <td>-122.23</td>\n",
       "    </tr>\n",
       "    <tr>\n",
       "      <th>1</th>\n",
       "      <td>8.3014</td>\n",
       "      <td>21.0</td>\n",
       "      <td>6.238137</td>\n",
       "      <td>0.971880</td>\n",
       "      <td>2401.0</td>\n",
       "      <td>2.109842</td>\n",
       "      <td>37.86</td>\n",
       "      <td>-122.22</td>\n",
       "    </tr>\n",
       "    <tr>\n",
       "      <th>2</th>\n",
       "      <td>7.2574</td>\n",
       "      <td>52.0</td>\n",
       "      <td>8.288136</td>\n",
       "      <td>1.073446</td>\n",
       "      <td>496.0</td>\n",
       "      <td>2.802260</td>\n",
       "      <td>37.85</td>\n",
       "      <td>-122.24</td>\n",
       "    </tr>\n",
       "    <tr>\n",
       "      <th>3</th>\n",
       "      <td>5.6431</td>\n",
       "      <td>52.0</td>\n",
       "      <td>5.817352</td>\n",
       "      <td>1.073059</td>\n",
       "      <td>558.0</td>\n",
       "      <td>2.547945</td>\n",
       "      <td>37.85</td>\n",
       "      <td>-122.25</td>\n",
       "    </tr>\n",
       "    <tr>\n",
       "      <th>4</th>\n",
       "      <td>3.8462</td>\n",
       "      <td>52.0</td>\n",
       "      <td>6.281853</td>\n",
       "      <td>1.081081</td>\n",
       "      <td>565.0</td>\n",
       "      <td>2.181467</td>\n",
       "      <td>37.85</td>\n",
       "      <td>-122.25</td>\n",
       "    </tr>\n",
       "  </tbody>\n",
       "</table>\n",
       "</div>"
      ],
      "text/plain": [
       "   MedInc  HouseAge  AveRooms  AveBedrms  Population  AveOccup  Latitude  \\\n",
       "0  8.3252      41.0  6.984127   1.023810       322.0  2.555556     37.88   \n",
       "1  8.3014      21.0  6.238137   0.971880      2401.0  2.109842     37.86   \n",
       "2  7.2574      52.0  8.288136   1.073446       496.0  2.802260     37.85   \n",
       "3  5.6431      52.0  5.817352   1.073059       558.0  2.547945     37.85   \n",
       "4  3.8462      52.0  6.281853   1.081081       565.0  2.181467     37.85   \n",
       "\n",
       "   Longitude  \n",
       "0    -122.23  \n",
       "1    -122.22  \n",
       "2    -122.24  \n",
       "3    -122.25  \n",
       "4    -122.25  "
      ]
     },
     "execution_count": 1,
     "metadata": {},
     "output_type": "execute_result"
    }
   ],
   "source": [
    "import numpy as np\n",
    "import pandas as pd\n",
    "\n",
    "import matplotlib.pyplot as plt\n",
    "from sklearn.datasets import fetch_california_housing\n",
    "\n",
    "housing = fetch_california_housing()\n",
    "\n",
    "X = pd.DataFrame(housing.data,columns=housing.feature_names)\n",
    "y = pd.DataFrame(housing.target,columns=['PRICE'])\n",
    "\n",
    "X.head()\n"
   ]
  },
  {
   "cell_type": "markdown",
   "metadata": {},
   "source": [
    "Split the dataset into 70-20-10 train test validate respectively"
   ]
  },
  {
   "cell_type": "code",
   "execution_count": 2,
   "metadata": {},
   "outputs": [],
   "source": [
    "def manual_train_test_validate_split(X,y,test_size=0.2,validate_size = 0.1):\n",
    "\n",
    "    num_data_points = X.shape[0]\n",
    "\n",
    "    shuffled_indices = np.random.permutation(num_data_points)\n",
    "    \n",
    "    test_set_size = int(num_data_points*test_size)\n",
    "    validate_size = int(num_data_points * validate_size)\n",
    "\n",
    "    test_indices = shuffled_indices[:test_set_size]\n",
    "    validate_indices=shuffled_indices[test_set_size:test_set_size+validate_size]\n",
    "    train_indices = shuffled_indices[test_set_size+validate_size:]\n",
    "\n",
    "    X_train = X.iloc[train_indices]\n",
    "    X_test = X.iloc[test_indices]\n",
    "    X_validate = X.iloc[validate_indices]\n",
    "    y_train = y.iloc[train_indices]\n",
    "    y_test = y.iloc[test_indices]\n",
    "    y_validate = y.iloc[validate_indices]\n",
    "\n",
    "\n",
    "    return X_train, X_test,X_validate, y_train, y_test,y_validate\n",
    "\n",
    "\n",
    "X_train, X_test,X_validate,y_train, y_test,y_validate = manual_train_test_validate_split(X, y, test_size=0.2)"
   ]
  },
  {
   "cell_type": "markdown",
   "metadata": {},
   "source": [
    "Add the 0's for bias into the train,test and validate "
   ]
  },
  {
   "cell_type": "code",
   "execution_count": 3,
   "metadata": {},
   "outputs": [],
   "source": [
    "X_train_intercept = np.column_stack([np.ones(X_train.shape[0]), X_train])\n",
    "X_test_intercept = np.column_stack([np.ones(X_test.shape[0]), X_test])\n",
    "X_validate_intercept = np.column_stack([np.ones(X_validate.shape[0]), X_validate])"
   ]
  },
  {
   "cell_type": "markdown",
   "metadata": {},
   "source": [
    "Use the closed form solution for w "
   ]
  },
  {
   "cell_type": "code",
   "execution_count": 4,
   "metadata": {},
   "outputs": [],
   "source": [
    "XtX = np.dot(X_train_intercept.T,X_train_intercept) #X^T * X\n",
    "XtX_inv = np.linalg.inv(XtX)\n",
    "XtY = np.dot(X_train_intercept.T,y_train)\n",
    "\n",
    "w = np.dot(XtX_inv,XtY)\n"
   ]
  },
  {
   "cell_type": "markdown",
   "metadata": {},
   "source": [
    "Get the MSE for the closed form solution"
   ]
  },
  {
   "cell_type": "code",
   "execution_count": 5,
   "metadata": {},
   "outputs": [
    {
     "name": "stdout",
     "output_type": "stream",
     "text": [
      "MSE: 0.5322623689290967\n"
     ]
    }
   ],
   "source": [
    "y_pred_test = np.dot(X_test_intercept,w)\n",
    "mse = np.mean((y_pred_test-y_test)**2)\n",
    "print(f\"MSE: {mse}\")"
   ]
  },
  {
   "cell_type": "markdown",
   "metadata": {},
   "source": [
    "Standardize the data for SGD"
   ]
  },
  {
   "cell_type": "code",
   "execution_count": 6,
   "metadata": {},
   "outputs": [],
   "source": [
    "def standardize(X_train, X_test,X_val):\n",
    "    # Calculate the mean and standard deviation of the training set\n",
    "    mean = np.mean(X_train, axis=0)\n",
    "    std = np.std(X_train, axis=0)\n",
    "\n",
    "    # To prevent division by zero, set std=1 where std is zero\n",
    "    std[std == 0] = 1\n",
    "\n",
    "    # Standardize the training set\n",
    "    X_train_scaled = (X_train - mean) / std\n",
    "\n",
    "    # Use the training set's mean and std to standardize the test set\n",
    "    X_test_scaled = (X_test - mean) / std\n",
    "\n",
    "    \n",
    "\n",
    "\n",
    "    X_val_scaled = (X_val - mean)/std\n",
    "\n",
    "    return X_train_scaled, X_test_scaled,X_val_scaled"
   ]
  },
  {
   "cell_type": "code",
   "execution_count": 7,
   "metadata": {},
   "outputs": [],
   "source": [
    "X_train_scaled, X_test_scaled,X_validate_scaled = standardize(X_train.values, X_test.values,X_validate.values)\n"
   ]
  },
  {
   "cell_type": "markdown",
   "metadata": {},
   "source": [
    "Add zeros for bias "
   ]
  },
  {
   "cell_type": "code",
   "execution_count": 8,
   "metadata": {},
   "outputs": [],
   "source": [
    "# Add intercept term to the standardized data\n",
    "X_train_intercept_scaled = np.column_stack([np.ones(X_train_scaled.shape[0]), X_train_scaled])\n",
    "X_test_intercept_scaled = np.column_stack([np.ones(X_test_scaled.shape[0]), X_test_scaled])\n",
    "X_validate_intercept_scaled =np.column_stack([np.ones(X_validate_scaled.shape[0]), X_validate_scaled])\n"
   ]
  },
  {
   "cell_type": "markdown",
   "metadata": {},
   "source": [
    "Create the SGD function"
   ]
  },
  {
   "cell_type": "code",
   "execution_count": 9,
   "metadata": {},
   "outputs": [],
   "source": [
    "# SGD implementation\n",
    "def sgd(X, y,X_val,y_val, learning_rate=0.01, n_iterations=100):\n",
    "    m, n = X.shape\n",
    "    theta = np.random.randn(n, 1)  # Initialize theta with random values\n",
    "    y = y.values.reshape(-1, 1)    # Reshape y to be a column vector\n",
    "    type(y)\n",
    "    y_val=y_val.values.reshape(-1,1) # reshape validation \n",
    "\n",
    "    mse_history = []  # List to store MSE values over iterations\n",
    "    validation_loss = [] # validation loss MSE list\n",
    "\n",
    "    for iteration in range(n_iterations):\n",
    "\n",
    "        for i in range(m):\n",
    "            random_index = np.random.randint(m)\n",
    "            \n",
    "            Xi = X[random_index:random_index+1]\n",
    "            yi = y[random_index:random_index+1]\n",
    "            gradients = 2 * Xi.T.dot(Xi.dot(theta) - yi)\n",
    "            theta = theta - learning_rate * gradients\n",
    "\n",
    "        # Store MSE for every iteration\n",
    "        train_mse = np.mean((X.dot(theta) - y) ** 2)\n",
    "        mse_history.append(train_mse)\n",
    "\n",
    "        val_mse = np.mean((X_val.dot(theta)-y_val)**2)\n",
    "        validation_loss.append(val_mse)\n",
    "        \n",
    "\n",
    "        if iteration % 50 == 0 and iteration != 0:\n",
    "            print(f\"Epoch: {iteration}\")\n",
    "\n",
    "    return theta, mse_history,validation_loss"
   ]
  },
  {
   "cell_type": "markdown",
   "metadata": {},
   "source": [
    "Get theta by running sgd"
   ]
  },
  {
   "cell_type": "code",
   "execution_count": 10,
   "metadata": {},
   "outputs": [
    {
     "name": "stdout",
     "output_type": "stream",
     "text": [
      "Epoch: 50\n",
      "Epoch: 100\n",
      "Epoch: 150\n",
      "Epoch: 200\n"
     ]
    }
   ],
   "source": [
    "# Train the model using SGD\n",
    "# model seems to flatten out at 250 iterations so we keep it there\n",
    "theta_sgd, train_mse_history,val_mse_history = sgd(X_train_intercept_scaled, y_train,X_validate_intercept_scaled,y_validate, learning_rate=0.00001, n_iterations=250)"
   ]
  },
  {
   "cell_type": "markdown",
   "metadata": {},
   "source": [
    "MSE for the test set"
   ]
  },
  {
   "cell_type": "code",
   "execution_count": 11,
   "metadata": {},
   "outputs": [
    {
     "name": "stdout",
     "output_type": "stream",
     "text": [
      "SGD Mean Squared Error on Test: 0.5315371235574644\n"
     ]
    }
   ],
   "source": [
    "y_pred_sgd = np.dot(X_test_intercept_scaled, theta_sgd)\n",
    "# Mean Squared Error for test\n",
    "mse_sgd = np.mean((y_pred_sgd - y_test.values) ** 2)\n",
    "print(f\"SGD Mean Squared Error on Test: {mse_sgd}\")\n",
    "\n"
   ]
  },
  {
   "cell_type": "markdown",
   "metadata": {},
   "source": [
    "## Training and Validation loss curves"
   ]
  },
  {
   "cell_type": "code",
   "execution_count": 12,
   "metadata": {},
   "outputs": [
    {
     "data": {
      "image/png": "[encoded data removed]",
      "text/plain": [
       "<Figure size 640x480 with 1 Axes>"
      ]
     },
     "metadata": {},
     "output_type": "display_data"
    }
   ],
   "source": [
    "# Plot MSE over iterations\n",
    "\n",
    "plt.plot(val_mse_history, label = \"validation\")\n",
    "plt.plot(train_mse_history,label =\"Test\")\n",
    "plt.xlabel('Iterations')\n",
    "plt.ylabel('Mean Squared Error (MSE)')\n",
    "plt.title('MSE over Iterations (SGD)')\n",
    "plt.legend(loc='upper right')\n",
    "plt.ylim(0,1)\n",
    "plt.show()"
   ]
  }
 ],
 "metadata": {
  "kernelspec": {
   "display_name": "Python 3",
   "language": "python",
   "name": "python3"
  },
  "language_info": {
   "codemirror_mode": {
    "name": "ipython",
    "version": 3
   },
   "file_extension": ".py",
   "mimetype": "text/x-python",
   "name": "python",
   "nbconvert_exporter": "python",
   "pygments_lexer": "ipython3",
   "version": "3.10.11"
  }
 },
 "nbformat": 4,
 "nbformat_minor": 2
}
